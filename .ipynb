{
 "cells": [
  {
   "cell_type": "code",
   "execution_count": 25,
   "metadata": {},
   "outputs": [
    {
     "name": "stdout",
     "output_type": "stream",
     "text": [
      "Nr of people detected: 8\n"
     ]
    }
   ],
   "source": [
    "from imageai.Detection import ObjectDetection\n",
    "import os\n",
    "\n",
    "\n",
    "def detect(img_src):\n",
    "\n",
    "    execution_path = os.getcwd()\n",
    "\n",
    "    detector = ObjectDetection()\n",
    "    detector.setModelTypeAsRetinaNet()\n",
    "    detector.setModelPath(\"resnet50_coco_best_v2.0.1.h5\")\n",
    "    detector.loadModel()\n",
    "    custom_objects = detector.CustomObjects(person=True, car=False)\n",
    "    detections = detector.detectCustomObjectsFromImage(input_image=str(img_src), output_image_path=os.path.join(execution_path , \"image_new.png\"), custom_objects=custom_objects, minimum_percentage_probability=65)\n",
    "\n",
    "\n",
    "    cnt = 0\n",
    "\n",
    "\n",
    "    for eachObject in detections:\n",
    "       cnt = cnt + 1\n",
    "        \n",
    "    return cnt\n",
    "\n",
    "\n",
    " \n",
    "    \n",
    "print(\"Nr of people detected: \" + str(detect(\"C:/Users/Kamil/jupyter/body_detection/image.png\")))"
   ]
  },
  {
   "cell_type": "code",
   "execution_count": null,
   "metadata": {},
   "outputs": [],
   "source": []
  },
  {
   "cell_type": "code",
   "execution_count": null,
   "metadata": {},
   "outputs": [],
   "source": []
  }
 ],
 "metadata": {
  "kernelspec": {
   "display_name": "Python 3",
   "language": "python",
   "name": "python3"
  },
  "language_info": {
   "codemirror_mode": {
    "name": "ipython",
    "version": 3
   },
   "file_extension": ".py",
   "mimetype": "text/x-python",
   "name": "python",
   "nbconvert_exporter": "python",
   "pygments_lexer": "ipython3",
   "version": "3.6.8"
  }
 },
 "nbformat": 4,
 "nbformat_minor": 2
}
